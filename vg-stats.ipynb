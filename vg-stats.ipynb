{
 "cells": [
  {
   "cell_type": "markdown",
   "metadata": {},
   "source": [
    "# Video Game Stats Analysis\n",
    "\n",
    "### By: Musa'b Shalaldeh\n",
    "### Date: 10/25/2021"
   ]
  },
  {
   "cell_type": "markdown",
   "metadata": {},
   "source": [
    "### Which company is the most common video game publisher?\n",
    "\n",
    "**Electronic Arts**\n",
    "\n",
    "### What’s the most common platform?\n",
    "\n",
    "**DS**\n",
    "\n",
    "### What about the most common genre?\n",
    "\n",
    "**Action**\n",
    "\n",
    "### What are the top 20 highest grossing games?\n",
    "\n",
    "* Wii Sports\t\n",
    "* Super Mario Bros.\t\n",
    "* Mario Kart Wii\t\n",
    "* Wii Sports Resort\t\n",
    "* Pokemon Red/Pokemon Blue\t\n",
    "* Tetris\t\n",
    "* New Super Mario Bros.\t\n",
    "* Wii Play\t\n",
    "* New Super Mario Bros. Wii\t\n",
    "* Duck Hunt\t\n",
    "* Nintendogs\t\n",
    "* Mario Kart DS\t\n",
    "* Pokemon Gold/Pokemon Silver\t\n",
    "* Wii Fit\t\n",
    "* Wii Fit Plus\t22.00\n",
    "* Kinect Adventures!\t\n",
    "* Grand Theft Auto V\t\n",
    "* Grand Theft Auto: San Andreas\t\n",
    "* Super Mario World\t\n",
    "* Brain Age: Train Your Brain in Minutes a Day\t\n",
    "\n",
    "### For North American video game sales, what’s the median?\n",
    "\n",
    "**0.28**\n",
    "\n",
    "-Provide a secondary output showing ten games surrounding the median sales output:\n",
    "\n",
    "* WWE 2K15\n",
    "* Middle-Earth: Shadow of Mordor\n",
    "* LEGO Jurassic World\n",
    "* Tiger Woods PGA Tour 11\n",
    "* The Walking Dead: Survival Instinct\n",
    "* Mega Man 6\n",
    "* Virtual Pool\n",
    "* Fire Emblem: Radiant Dawn\n",
    "* NHL FaceOff 98\n",
    "* Blue's Clues: Blue's Big Musical\n",
    "\n",
    "### For the top-selling game of all time, how many standard deviations above/below the mean are its sales for North America?\n",
    "\n",
    "**0.32407607396719995**\n",
    "\n",
    "### The Nintendo Wii seems to have outdone itself with games. How does its average number of sales compare with all of the other platforms?\n",
    "\n",
    "**10.324415989782189**\n",
    "\n",
    "### Come up with 3 more questions that can be answered with this data set.\n",
    "\n",
    "### What is the least sold game ?\n",
    "\n",
    "Spirits & Spells\t\n",
    "\n",
    "### What is the second least sold game ?\n",
    "\n",
    "\n",
    "### The Latest released Game ?\n",
    "\n",
    "Imagine: Makeup Artist"
   ]
  },
  {
   "cell_type": "code",
   "execution_count": 26,
   "metadata": {},
   "outputs": [],
   "source": [
    "import numpy as np\n",
    "\n",
    "import pandas as pd\n",
    "\n",
    "\n",
    "vg_sales_file = \"assets/vgsales.csv\"\n",
    "\n",
    "data = pd.read_csv(vg_sales_file)\n",
    "data = data[data[\"Global_Sales\"]>0.1]"
   ]
  },
  {
   "cell_type": "code",
   "execution_count": 27,
   "metadata": {},
   "outputs": [
    {
     "data": {
      "text/plain": [
       "'Electronic Arts'"
      ]
     },
     "execution_count": 27,
     "metadata": {},
     "output_type": "execute_result"
    }
   ],
   "source": [
    "most_common_publisher = data[\"Publisher\"].value_counts().idxmax()\n",
    "most_common_publisher"
   ]
  },
  {
   "cell_type": "code",
   "execution_count": 28,
   "metadata": {},
   "outputs": [
    {
     "data": {
      "text/plain": [
       "'PS2'"
      ]
     },
     "execution_count": 28,
     "metadata": {},
     "output_type": "execute_result"
    }
   ],
   "source": [
    "most_common_platform = data[\"Platform\"].value_counts().idxmax()\n",
    "most_common_platform"
   ]
  },
  {
   "cell_type": "code",
   "execution_count": 29,
   "metadata": {},
   "outputs": [
    {
     "data": {
      "text/plain": [
       "'Action'"
      ]
     },
     "execution_count": 29,
     "metadata": {},
     "output_type": "execute_result"
    }
   ],
   "source": [
    "most_common_genre = data[\"Genre\"].value_counts().idxmax()\n",
    "most_common_genre"
   ]
  },
  {
   "cell_type": "code",
   "execution_count": 30,
   "metadata": {},
   "outputs": [
    {
     "data": {
      "text/html": [
       "<div>\n",
       "<style scoped>\n",
       "    .dataframe tbody tr th:only-of-type {\n",
       "        vertical-align: middle;\n",
       "    }\n",
       "\n",
       "    .dataframe tbody tr th {\n",
       "        vertical-align: top;\n",
       "    }\n",
       "\n",
       "    .dataframe thead th {\n",
       "        text-align: right;\n",
       "    }\n",
       "</style>\n",
       "<table border=\"1\" class=\"dataframe\">\n",
       "  <thead>\n",
       "    <tr style=\"text-align: right;\">\n",
       "      <th></th>\n",
       "      <th>Name</th>\n",
       "      <th>Global_Sales</th>\n",
       "    </tr>\n",
       "  </thead>\n",
       "  <tbody>\n",
       "    <tr>\n",
       "      <th>0</th>\n",
       "      <td>Wii Sports</td>\n",
       "      <td>82.74</td>\n",
       "    </tr>\n",
       "    <tr>\n",
       "      <th>1</th>\n",
       "      <td>Super Mario Bros.</td>\n",
       "      <td>40.24</td>\n",
       "    </tr>\n",
       "    <tr>\n",
       "      <th>2</th>\n",
       "      <td>Mario Kart Wii</td>\n",
       "      <td>35.82</td>\n",
       "    </tr>\n",
       "    <tr>\n",
       "      <th>3</th>\n",
       "      <td>Wii Sports Resort</td>\n",
       "      <td>33.00</td>\n",
       "    </tr>\n",
       "    <tr>\n",
       "      <th>4</th>\n",
       "      <td>Pokemon Red/Pokemon Blue</td>\n",
       "      <td>31.37</td>\n",
       "    </tr>\n",
       "    <tr>\n",
       "      <th>5</th>\n",
       "      <td>Tetris</td>\n",
       "      <td>30.26</td>\n",
       "    </tr>\n",
       "    <tr>\n",
       "      <th>6</th>\n",
       "      <td>New Super Mario Bros.</td>\n",
       "      <td>30.01</td>\n",
       "    </tr>\n",
       "    <tr>\n",
       "      <th>7</th>\n",
       "      <td>Wii Play</td>\n",
       "      <td>29.02</td>\n",
       "    </tr>\n",
       "    <tr>\n",
       "      <th>8</th>\n",
       "      <td>New Super Mario Bros. Wii</td>\n",
       "      <td>28.62</td>\n",
       "    </tr>\n",
       "    <tr>\n",
       "      <th>9</th>\n",
       "      <td>Duck Hunt</td>\n",
       "      <td>28.31</td>\n",
       "    </tr>\n",
       "    <tr>\n",
       "      <th>10</th>\n",
       "      <td>Nintendogs</td>\n",
       "      <td>24.76</td>\n",
       "    </tr>\n",
       "    <tr>\n",
       "      <th>11</th>\n",
       "      <td>Mario Kart DS</td>\n",
       "      <td>23.42</td>\n",
       "    </tr>\n",
       "    <tr>\n",
       "      <th>12</th>\n",
       "      <td>Pokemon Gold/Pokemon Silver</td>\n",
       "      <td>23.10</td>\n",
       "    </tr>\n",
       "    <tr>\n",
       "      <th>13</th>\n",
       "      <td>Wii Fit</td>\n",
       "      <td>22.72</td>\n",
       "    </tr>\n",
       "    <tr>\n",
       "      <th>14</th>\n",
       "      <td>Wii Fit Plus</td>\n",
       "      <td>22.00</td>\n",
       "    </tr>\n",
       "    <tr>\n",
       "      <th>15</th>\n",
       "      <td>Kinect Adventures!</td>\n",
       "      <td>21.82</td>\n",
       "    </tr>\n",
       "    <tr>\n",
       "      <th>16</th>\n",
       "      <td>Grand Theft Auto V</td>\n",
       "      <td>21.40</td>\n",
       "    </tr>\n",
       "    <tr>\n",
       "      <th>17</th>\n",
       "      <td>Grand Theft Auto: San Andreas</td>\n",
       "      <td>20.81</td>\n",
       "    </tr>\n",
       "    <tr>\n",
       "      <th>18</th>\n",
       "      <td>Super Mario World</td>\n",
       "      <td>20.61</td>\n",
       "    </tr>\n",
       "    <tr>\n",
       "      <th>19</th>\n",
       "      <td>Brain Age: Train Your Brain in Minutes a Day</td>\n",
       "      <td>20.22</td>\n",
       "    </tr>\n",
       "  </tbody>\n",
       "</table>\n",
       "</div>"
      ],
      "text/plain": [
       "                                            Name  Global_Sales\n",
       "0                                     Wii Sports         82.74\n",
       "1                              Super Mario Bros.         40.24\n",
       "2                                 Mario Kart Wii         35.82\n",
       "3                              Wii Sports Resort         33.00\n",
       "4                       Pokemon Red/Pokemon Blue         31.37\n",
       "5                                         Tetris         30.26\n",
       "6                          New Super Mario Bros.         30.01\n",
       "7                                       Wii Play         29.02\n",
       "8                      New Super Mario Bros. Wii         28.62\n",
       "9                                      Duck Hunt         28.31\n",
       "10                                    Nintendogs         24.76\n",
       "11                                 Mario Kart DS         23.42\n",
       "12                   Pokemon Gold/Pokemon Silver         23.10\n",
       "13                                       Wii Fit         22.72\n",
       "14                                  Wii Fit Plus         22.00\n",
       "15                            Kinect Adventures!         21.82\n",
       "16                            Grand Theft Auto V         21.40\n",
       "17                 Grand Theft Auto: San Andreas         20.81\n",
       "18                             Super Mario World         20.61\n",
       "19  Brain Age: Train Your Brain in Minutes a Day         20.22"
      ]
     },
     "execution_count": 30,
     "metadata": {},
     "output_type": "execute_result"
    }
   ],
   "source": [
    "top_twenty_highest_grossing_games = data[[\"Name\",\"Global_Sales\"]][:20]\n",
    "top_twenty_highest_grossing_games"
   ]
  },
  {
   "cell_type": "code",
   "execution_count": 31,
   "metadata": {},
   "outputs": [
    {
     "name": "stderr",
     "output_type": "stream",
     "text": [
      "/tmp/ipykernel_15838/4128270998.py:2: FutureWarning: Dropping of nuisance columns in DataFrame reductions (with 'numeric_only=None') is deprecated; in a future version this will raise TypeError.  Select only valid columns before calling the reduction.\n",
      "  na_row_median = na_row[na_row[\"NA_Sales\"] > 0.1].median()\n"
     ]
    }
   ],
   "source": [
    "na_row = data[[\"Name\",\"NA_Sales\"]]\n",
    "na_row_median = na_row[na_row[\"NA_Sales\"] > 0.1].median()\n",
    "\n",
    "ten_median_na_seller_names = na_row[na_row[\"NA_Sales\"] == 0.28]\n",
    "_length = len(ten_median_na_seller_names)\n",
    "ten_median_na_seller_names = ten_median_na_seller_names[_length//2-5:_length//2+5]"
   ]
  },
  {
   "cell_type": "code",
   "execution_count": 32,
   "metadata": {},
   "outputs": [
    {
     "data": {
      "text/plain": [
       "0.40845455451190377"
      ]
     },
     "execution_count": 32,
     "metadata": {},
     "output_type": "execute_result"
    }
   ],
   "source": [
    "# I don't really understand this question..... \n",
    "na_median_sales = data[\"NA_Sales\"].mean()/data[\"NA_Sales\"].std()\n",
    "na_median_sales\n"
   ]
  },
  {
   "cell_type": "code",
   "execution_count": 33,
   "metadata": {},
   "outputs": [
    {
     "name": "stderr",
     "output_type": "stream",
     "text": [
      "/tmp/ipykernel_15838/1901084655.py:1: UserWarning: Boolean Series key will be reindexed to match DataFrame index.\n",
      "  wii_average_sales = data[data[\"Platform\"] == \"Wii\"][data[\"Publisher\"]==\"Nintendo\"][\"Global_Sales\"].mean()\n",
      "/tmp/ipykernel_15838/1901084655.py:2: UserWarning: Boolean Series key will be reindexed to match DataFrame index.\n",
      "  average_sales_for_others = data[data[\"Platform\"] != \"Wii\"][data[\"Publisher\"]!=\"Nintendo\"][\"Global_Sales\"].mean()\n"
     ]
    }
   ],
   "source": [
    "wii_average_sales = data[data[\"Platform\"] == \"Wii\"][data[\"Publisher\"]==\"Nintendo\"][\"Global_Sales\"].mean()\n",
    "average_sales_for_others = data[data[\"Platform\"] != \"Wii\"][data[\"Publisher\"]!=\"Nintendo\"][\"Global_Sales\"].mean()\n",
    "\n",
    "ten_median_na_seller_names = wii_average_sales / average_sales_for_others\n"
   ]
  },
  {
   "cell_type": "code",
   "execution_count": 34,
   "metadata": {},
   "outputs": [
    {
     "data": {
      "text/html": [
       "<div>\n",
       "<style scoped>\n",
       "    .dataframe tbody tr th:only-of-type {\n",
       "        vertical-align: middle;\n",
       "    }\n",
       "\n",
       "    .dataframe tbody tr th {\n",
       "        vertical-align: top;\n",
       "    }\n",
       "\n",
       "    .dataframe thead th {\n",
       "        text-align: right;\n",
       "    }\n",
       "</style>\n",
       "<table border=\"1\" class=\"dataframe\">\n",
       "  <thead>\n",
       "    <tr style=\"text-align: right;\">\n",
       "      <th></th>\n",
       "      <th>Name</th>\n",
       "      <th>Global_Sales</th>\n",
       "    </tr>\n",
       "  </thead>\n",
       "  <tbody>\n",
       "    <tr>\n",
       "      <th>10416</th>\n",
       "      <td>D</td>\n",
       "      <td>0.11</td>\n",
       "    </tr>\n",
       "  </tbody>\n",
       "</table>\n",
       "</div>"
      ],
      "text/plain": [
       "      Name  Global_Sales\n",
       "10416    D          0.11"
      ]
     },
     "execution_count": 34,
     "metadata": {},
     "output_type": "execute_result"
    }
   ],
   "source": [
    "least_sold_game = data[[\"Name\",\"Global_Sales\"]].sort_values(\"Global_Sales\",ascending=True)[:1]\n",
    "least_sold_game"
   ]
  },
  {
   "cell_type": "code",
   "execution_count": 35,
   "metadata": {},
   "outputs": [
    {
     "data": {
      "text/html": [
       "<div>\n",
       "<style scoped>\n",
       "    .dataframe tbody tr th:only-of-type {\n",
       "        vertical-align: middle;\n",
       "    }\n",
       "\n",
       "    .dataframe tbody tr th {\n",
       "        vertical-align: top;\n",
       "    }\n",
       "\n",
       "    .dataframe thead th {\n",
       "        text-align: right;\n",
       "    }\n",
       "</style>\n",
       "<table border=\"1\" class=\"dataframe\">\n",
       "  <thead>\n",
       "    <tr style=\"text-align: right;\">\n",
       "      <th></th>\n",
       "      <th>Name</th>\n",
       "      <th>Year</th>\n",
       "    </tr>\n",
       "  </thead>\n",
       "  <tbody>\n",
       "    <tr>\n",
       "      <th>5957</th>\n",
       "      <td>Imagine: Makeup Artist</td>\n",
       "      <td>2020.0</td>\n",
       "    </tr>\n",
       "  </tbody>\n",
       "</table>\n",
       "</div>"
      ],
      "text/plain": [
       "                        Name    Year\n",
       "5957  Imagine: Makeup Artist  2020.0"
      ]
     },
     "execution_count": 35,
     "metadata": {},
     "output_type": "execute_result"
    }
   ],
   "source": [
    "last_sold_game = data[[\"Name\",\"Year\"]].sort_values(\"Year\",ascending=False)[:1]\n",
    "last_sold_game"
   ]
  },
  {
   "cell_type": "code",
   "execution_count": 36,
   "metadata": {},
   "outputs": [
    {
     "name": "stdout",
     "output_type": "stream",
     "text": [
      "Success!!!\n"
     ]
    }
   ],
   "source": [
    "def test():\n",
    "\n",
    "    def assert_equal(actual,expected):\n",
    "        assert actual == expected, f\"Expected {expected} but got {actual}\"\n",
    "\n",
    "    assert_equal(str(most_common_publisher), \"Electronic Arts\")\n",
    "    assert_equal(most_common_platform, \"PS2\")\n",
    "    assert_equal(most_common_genre, \"Action\")\n",
    "    assert_equal(top_twenty_highest_grossing_games.iloc[0].Name, \"Wii Sports\")\n",
    "    assert_equal(top_twenty_highest_grossing_games.iloc[19].Name, \"Brain Age: Train Your Brain in Minutes a Day\")\n",
    "    assert_equal(na_median_sales, 0.40845455451190377)\n",
    "    assert_equal(ten_median_na_seller_names, ten_median_na_seller_names)\n",
    "\n",
    "    print(\"Success!!!\")\n",
    "test()"
   ]
  }
 ],
 "metadata": {
  "interpreter": {
   "hash": "27c0ca2f759aadcaf076cc2f13d830f652283b0d6c62dfadc1b63769da4d66e2"
  },
  "kernelspec": {
   "display_name": "Python 3.9.5 64-bit ('.venv': poetry)",
   "name": "python3"
  },
  "language_info": {
   "codemirror_mode": {
    "name": "ipython",
    "version": 3
   },
   "file_extension": ".py",
   "mimetype": "text/x-python",
   "name": "python",
   "nbconvert_exporter": "python",
   "pygments_lexer": "ipython3",
   "version": "3.9.5"
  },
  "orig_nbformat": 4
 },
 "nbformat": 4,
 "nbformat_minor": 2
}
